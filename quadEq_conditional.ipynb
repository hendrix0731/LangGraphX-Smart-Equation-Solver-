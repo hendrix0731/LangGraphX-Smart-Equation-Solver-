{
 "cells": [
  {
   "cell_type": "code",
   "execution_count": 52,
   "id": "4a9a047c",
   "metadata": {},
   "outputs": [],
   "source": [
    "from langgraph.graph import StateGraph, START, END\n",
    "from typing import TypedDict, Literal\n",
    "import operator"
   ]
  },
  {
   "cell_type": "code",
   "execution_count": 53,
   "id": "56d49cc0",
   "metadata": {},
   "outputs": [],
   "source": [
    "class Quadratic(TypedDict):\n",
    "    a: int\n",
    "    b: int\n",
    "    c: int\n",
    "    D: float\n",
    "    equation: str\n",
    "    roots: str"
   ]
  },
  {
   "cell_type": "code",
   "execution_count": 54,
   "id": "8bfaad9e",
   "metadata": {},
   "outputs": [],
   "source": [
    "def show_eq(state: Quadratic) -> dict:\n",
    "    a, b, c = state[\"a\"], state[\"b\"], state[\"c\"]\n",
    "    eq = f\"{a}x² {'+' if b>=0 else ''}{b}x {'+' if c>=0 else ''}{c}\"\n",
    "    return {\"equation\": eq}\n",
    "\n",
    "def calc_D(state: Quadratic) -> dict:\n",
    "    d = (state[\"b\"] ** 2) - (4 * state[\"a\"] * state[\"c\"])\n",
    "    return {\"D\": d}"
   ]
  },
  {
   "cell_type": "code",
   "execution_count": 59,
   "id": "ab5bbc9d",
   "metadata": {},
   "outputs": [],
   "source": [
    "def reyal(state: Quadratic) -> dict:\n",
    "    root1 = (-state['b'] + (state['D'] ** 0.5)) / (2 * state['a'])\n",
    "    root2 = (-state['b'] - (state['D'] ** 0.5)) / (2 * state['a'])\n",
    "    result = f\"the roots are {root1:.3f} and {root2:.3f} and are distinct and real\"\n",
    "    return {\"roots\": result}\n",
    "\n",
    "def single_reyal(state: Quadratic) -> dict:\n",
    "    root = -state['b'] / (2 * state['a'])\n",
    "    result = f\"the root is {root:.3f} and is single and real\"\n",
    "    return {\"roots\": result}\n",
    "\n",
    "def imaginary(state: Quadratic) -> dict:\n",
    "    real = -state['b'] / (2 * state['a'])\n",
    "    imag = (abs(state['D']) ** 0.5) / (2 * state['a'])\n",
    "    result = f\"the roots are {real:.3f}+{imag:.3f}i and {real:.3f}-{imag:.3f}i and are imaginary\"\n",
    "    return {\"roots\": result}\n",
    "\n",
    "\n",
    "# function for condition for graph conditional roots and decide where to route \n",
    "def checker(state: Quadratic)-> Literal[\"reyal\",\"single_reyal\",\"imaginary\"]:\n",
    "    if state['D']>0:\n",
    "        return \"reyal\"\n",
    "    elif state['D'] == 0:\n",
    "        return \"single_reyal\"\n",
    "    else:\n",
    "        return \"imaginary\"\n"
   ]
  },
  {
   "cell_type": "code",
   "execution_count": 56,
   "id": "484c1329",
   "metadata": {},
   "outputs": [],
   "source": [
    "graph=StateGraph(Quadratic)\n",
    "# nodes\n",
    "graph.add_node('show_eq',show_eq)\n",
    "graph.add_node('calc_D',calc_D)\n",
    "graph.add_node('reyal',reyal)\n",
    "graph.add_node('single_reyal',single_reyal)\n",
    "graph.add_node('imaginary',imaginary)\n",
    "\n",
    "\n",
    "# Edges \n",
    "graph.add_edge(START,'show_eq')\n",
    "graph.add_edge('show_eq','calc_D')\n",
    "#conditional edge            from where , to where\n",
    "graph.add_conditional_edges(\"calc_D\", checker, {\n",
    "    \"reyal\": \"reyal\",\n",
    "    \"single_reyal\": \"single_reyal\",\n",
    "    \"imaginary\": \"imaginary\"\n",
    "})\n",
    "graph.add_edge('reyal',END)\n",
    "graph.add_edge('single_reyal',END)\n",
    "graph.add_edge('imaginary',END)\n",
    "\n",
    "wf=graph.compile()\n"
   ]
  },
  {
   "cell_type": "code",
   "execution_count": 57,
   "id": "b8ccd9e4",
   "metadata": {},
   "outputs": [
    {
     "data": {
      "image/png": "[encoded data removed]",
      "text/plain": [
       "<langgraph.graph.state.CompiledStateGraph object at 0x00000251F3626AB0>"
      ]
     },
     "execution_count": 57,
     "metadata": {},
     "output_type": "execute_result"
    }
   ],
   "source": [
    "wf"
   ]
  },
  {
   "cell_type": "code",
   "execution_count": 58,
   "id": "70fac2b4",
   "metadata": {},
   "outputs": [
    {
     "data": {
      "text/plain": [
       "{'a': 2,\n",
       " 'b': 4,\n",
       " 'c': 2,\n",
       " 'D': 0,\n",
       " 'equation': '2x² +4x +2',\n",
       " 'roots': 'the root is -1.000 and is single reyal'}"
      ]
     },
     "execution_count": 58,
     "metadata": {},
     "output_type": "execute_result"
    }
   ],
   "source": [
    "I={\n",
    "    'a':2,\n",
    "    'b':4,\n",
    "    'c':2\n",
    "}\n",
    "wf.invoke(I)"
   ]
  },
  {
   "cell_type": "code",
   "execution_count": null,
   "id": "bc46839a",
   "metadata": {},
   "outputs": [],
   "source": []
  }
 ],
 "metadata": {
  "kernelspec": {
   "display_name": "jarvis",
   "language": "python",
   "name": "python3"
  },
  "language_info": {
   "codemirror_mode": {
    "name": "ipython",
    "version": 3
   },
   "file_extension": ".py",
   "mimetype": "text/x-python",
   "name": "python",
   "nbconvert_exporter": "python",
   "pygments_lexer": "ipython3",
   "version": "3.12.6"
  }
 },
 "nbformat": 4,
 "nbformat_minor": 5
}
